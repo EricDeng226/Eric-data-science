{
    "cells": [
        {
            "cell_type": "markdown",
            "metadata": {
                "collapsed": true
            },
            "source": "# My Jupyter Notebook on IBM Watson Studio"
        },
        {
            "cell_type": "markdown",
            "metadata": {},
            "source": "#### ShengJiang Deng"
        },
        {
            "cell_type": "markdown",
            "metadata": {},
            "source": "Data scientist"
        },
        {
            "cell_type": "markdown",
            "metadata": {},
            "source": "*The reason I love data science is because there are so many interesting discoveries that can be made by building models*"
        },
        {
            "cell_type": "markdown",
            "metadata": {},
            "source": "### The following code demonstrates the summation calculation"
        },
        {
            "cell_type": "code",
            "execution_count": 1,
            "metadata": {},
            "outputs": [
                {
                    "data": {
                        "text/plain": "4"
                    },
                    "execution_count": 1,
                    "metadata": {},
                    "output_type": "execute_result"
                }
            ],
            "source": "2+2"
        },
        {
            "cell_type": "markdown",
            "metadata": {},
            "source": "+ 0ne\n+ two\n+ three\n+ four\n+ five\n+ six"
        },
        {
            "cell_type": "markdown",
            "metadata": {},
            "source": " | Markdown | Less | Pretty | \n | --- | ---- | --- |\n | Still | renders | nicely | \n | 1 | 2 | 3 | \n\n"
        },
        {
            "cell_type": "markdown",
            "metadata": {},
            "source": "<a href=\"https://www.ibm.com/\">www.ibm.com</a>"
        },
        {
            "cell_type": "code",
            "execution_count": null,
            "metadata": {},
            "outputs": [],
            "source": ""
        }
    ],
    "metadata": {
        "kernelspec": {
            "display_name": "Python 3.9",
            "language": "python",
            "name": "python3"
        },
        "language_info": {
            "codemirror_mode": {
                "name": "ipython",
                "version": 3
            },
            "file_extension": ".py",
            "mimetype": "text/x-python",
            "name": "python",
            "nbconvert_exporter": "python",
            "pygments_lexer": "ipython3",
            "version": "3.9.13"
        }
    },
    "nbformat": 4,
    "nbformat_minor": 1
}